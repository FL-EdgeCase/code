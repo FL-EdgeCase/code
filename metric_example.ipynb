{
 "cells": [
  {
   "cell_type": "code",
   "execution_count": 1,
   "metadata": {},
   "outputs": [],
   "source": [
    "from tqdm import tqdm\n",
    "import json\n",
    "import random\n",
    "import numpy as np\n",
    "from metric import mc_time, sc_ratio, st_ratio"
   ]
  },
  {
   "attachments": {},
   "cell_type": "markdown",
   "metadata": {},
   "source": [
    "# Data"
   ]
  },
  {
   "cell_type": "code",
   "execution_count": 2,
   "metadata": {},
   "outputs": [],
   "source": [
    "with open(\"data/device/K50sigma0.1.json\", \"r\") as f:\n",
    "    trace_K50_sigma_01 = json.load(f)\n",
    "data_K50_sigma_01 = []\n",
    "for item in trace_K50_sigma_01:\n",
    "    data_K50_sigma_01.append(item['tcp_speed_results'])\n",
    "\n",
    "import json\n",
    "with open(\"data/state/cached_timers.json\", \"r\") as f:\n",
    "    traces = json.load(f)\n",
    "with open(\"data/state/startrank0_alpha1000.json\", \"r\") as f:\n",
    "    starrank_0_alpha_1000 = json.load(f)"
   ]
  },
  {
   "attachments": {},
   "cell_type": "markdown",
   "metadata": {},
   "source": [
    "# MC-Time"
   ]
  },
  {
   "cell_type": "code",
   "execution_count": 3,
   "metadata": {},
   "outputs": [],
   "source": [
    "random.seed(42)\n",
    "np.random.seed(42)"
   ]
  },
  {
   "cell_type": "code",
   "execution_count": 4,
   "metadata": {},
   "outputs": [
    {
     "name": "stderr",
     "output_type": "stream",
     "text": [
      "100%|██████████| 1000/1000 [00:40<00:00, 24.46it/s]\n"
     ]
    },
    {
     "data": {
      "text/plain": [
       "0.4074782363060983"
      ]
     },
     "execution_count": 4,
     "metadata": {},
     "output_type": "execute_result"
    }
   ],
   "source": [
    "mc_time(data_K50_sigma_01, quantile=0, iterations=1000, total_client_num=2466,\n",
    "        rounds=100, selected_num_per_round=16, model_size=100)"
   ]
  },
  {
   "attachments": {},
   "cell_type": "markdown",
   "metadata": {},
   "source": [
    "# SC-Ratio"
   ]
  },
  {
   "cell_type": "code",
   "execution_count": 5,
   "metadata": {},
   "outputs": [
    {
     "data": {
      "text/plain": [
       "0.48142768460340946"
      ]
     },
     "execution_count": 5,
     "metadata": {},
     "output_type": "execute_result"
    }
   ],
   "source": [
    "sc_ratio(data_K50_sigma_01, 120)"
   ]
  },
  {
   "attachments": {},
   "cell_type": "markdown",
   "metadata": {},
   "source": [
    "# ST-Ratio"
   ]
  },
  {
   "cell_type": "code",
   "execution_count": 3,
   "metadata": {},
   "outputs": [
    {
     "name": "stderr",
     "output_type": "stream",
     "text": [
      "100%|██████████| 2466/2466 [00:15<00:00, 155.65it/s]\n"
     ]
    },
    {
     "data": {
      "text/plain": [
       "0.0005463081416970982"
      ]
     },
     "execution_count": 3,
     "metadata": {},
     "output_type": "execute_result"
    }
   ],
   "source": [
    "st_ratio(traces, starrank_0_alpha_1000, 120)"
   ]
  }
 ],
 "metadata": {
  "kernelspec": {
   "display_name": "MLpy3.8",
   "language": "python",
   "name": "python3"
  },
  "language_info": {
   "codemirror_mode": {
    "name": "ipython",
    "version": 3
   },
   "file_extension": ".py",
   "mimetype": "text/x-python",
   "name": "python",
   "nbconvert_exporter": "python",
   "pygments_lexer": "ipython3",
   "version": "3.9.13"
  },
  "orig_nbformat": 4
 },
 "nbformat": 4,
 "nbformat_minor": 2
}
